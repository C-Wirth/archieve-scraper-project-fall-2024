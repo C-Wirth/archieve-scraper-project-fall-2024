{
 "cells": [
  {
   "cell_type": "code",
   "execution_count": 1,
   "metadata": {},
   "outputs": [
    {
     "name": "stdout",
     "output_type": "stream",
     "text": [
      "{'country': 'United States', 'leakgroup': 'DNC Email Archive', 'leaks': [{'name': ' For research: This Week on the Campaign Trail ', 'link': 'https://wikileaks.org/dnc-emails/emailid/14220', '_id': '582cb00ec63eee11295d5d96'}, {'name': ' WSJ: Donald Trump Amplifies His Stances on Tax Cuts, U.S.’s Debt ', 'link': 'https://wikileaks.org/dnc-emails/emailid/14196', '_id': '582cb00ec63eee11295d5d97'}, {'name': ' RE: Hillary Clinton Statement on Puerto Rico- President Clinton to Campaign in PR ', 'link': 'https://wikileaks.org/dnc-emails/emailid/14141', '_id': '582cb00ec63eee11295d5d98'}, {'name': \" RE: FOR COMMS APPROVAL: Media advisory for tomorrow's California call \", 'link': 'https://wikileaks.org/dnc-emails/emailid/13921', '_id': '582cb00ec63eee11295d5d99'}, {'name': ' RE: Trump making money off his campaign ', 'link': 'https://wikileaks.org/dnc-emails/emailid/12823', '_id': '582cb00ec63eee11295d5d9a'}, {'name': ' RE: FOR RESEARCH: Trump’s message to black America: Ferguson and Oakland are the new Iraq ', 'link': 'https://wikileaks.org/dnc-emails/emailid/13745', '_id': '582cb00ec63eee11295d5d9b'}, {'name': ' Re: Hillary Clinton Statement on Puerto Rico- President Clinton to Campaign in PR ', 'link': 'https://wikileaks.org/dnc-emails/emailid/13643', '_id': '582cb00ec63eee11295d5d9c'}, {'name': ' WaPo: Former Mafia-linked figure describes association with Trump ', 'link': 'https://wikileaks.org/dnc-emails/emailid/8417', '_id': '582cb00ec63eee11295d5d9d'}, {'name': ' PELOSI -- Statement on Bipartisan Delegation Visit to USCENTCOM and USSOCOM ', 'link': 'https://wikileaks.org/dnc-emails/emailid/13557', '_id': '582cb00ec63eee11295d5d9e'}, {'name': ' RE: Obama comments on Muslim fearmongering during OBL raid ', 'link': 'https://wikileaks.org/dnc-emails/emailid/12441', '_id': '582cb00ec63eee11295d5d9f'}]}\n"
     ]
    }
   ],
   "source": [
    "import json\n",
    "\n",
    "with open('../json/json1.json', 'r') as json1: #import the file with the links to crawl\n",
    "    json1 = json.load(json1)\n",
    "\n",
    "print(json1)"
   ]
  },
  {
   "cell_type": "code",
   "execution_count": 2,
   "metadata": {},
   "outputs": [
    {
     "name": "stdout",
     "output_type": "stream",
     "text": [
      "<a href=\"https://wikileaks.org/dnc-emails/emailid/14220\"> For research: This Week on the Campaign Trail </a><br/><a href=\"https://wikileaks.org/dnc-emails/emailid/14196\"> WSJ: Donald Trump Amplifies His Stances on Tax Cuts, U.S.’s Debt </a><br/><a href=\"https://wikileaks.org/dnc-emails/emailid/14141\"> RE: Hillary Clinton Statement on Puerto Rico- President Clinton to Campaign in PR </a><br/><a href=\"https://wikileaks.org/dnc-emails/emailid/13921\"> RE: FOR COMMS APPROVAL: Media advisory for tomorrow's California call </a><br/><a href=\"https://wikileaks.org/dnc-emails/emailid/12823\"> RE: Trump making money off his campaign </a><br/><a href=\"https://wikileaks.org/dnc-emails/emailid/13745\"> RE: FOR RESEARCH: Trump’s message to black America: Ferguson and Oakland are the new Iraq </a><br/><a href=\"https://wikileaks.org/dnc-emails/emailid/13643\"> Re: Hillary Clinton Statement on Puerto Rico- President Clinton to Campaign in PR </a><br/><a href=\"https://wikileaks.org/dnc-emails/emailid/8417\"> WaPo: Former Mafia-linked figure describes association with Trump </a><br/><a href=\"https://wikileaks.org/dnc-emails/emailid/13557\"> PELOSI -- Statement on Bipartisan Delegation Visit to USCENTCOM and USSOCOM </a><br/><a href=\"https://wikileaks.org/dnc-emails/emailid/12441\"> RE: Obama comments on Muslim fearmongering during OBL raid </a><br/>\n"
     ]
    }
   ],
   "source": [
    "#the api formats the file like this\n",
    "html_format = ''.join([f'<a href=\"{entry[\"link\"]}\">{entry[\"name\"]}</a><br/>' for entry in json1['leaks']]) \n",
    "\n",
    "print(html_format)"
   ]
  },
  {
   "cell_type": "code",
   "execution_count": 3,
   "metadata": {},
   "outputs": [
    {
     "name": "stdout",
     "output_type": "stream",
     "text": [
      "<a href=\"https://wikileaks.org/dnc-emails/emailid/14220\">\n",
      " For research: This Week on the Campaign Trail\n",
      "</a>\n",
      "<br/>\n",
      "<a href=\"https://wikileaks.org/dnc-emails/emailid/14196\">\n",
      " WSJ: Donald Trump Amplifies His Stances on Tax Cuts, U.S.’s Debt\n",
      "</a>\n",
      "<br/>\n",
      "<a href=\"https://wikileaks.org/dnc-emails/emailid/14141\">\n",
      " RE: Hillary Clinton Statement on Puerto Rico- President Clinton to Campaign in PR\n",
      "</a>\n",
      "<br/>\n",
      "<a href=\"https://wikileaks.org/dnc-emails/emailid/13921\">\n",
      " RE: FOR COMMS APPROVAL: Media advisory for tomorrow's California call\n",
      "</a>\n",
      "<br/>\n",
      "<a href=\"https://wikileaks.org/dnc-emails/emailid/12823\">\n",
      " RE: Trump making money off his campaign\n",
      "</a>\n",
      "<br/>\n",
      "<a href=\"https://wikileaks.org/dnc-emails/emailid/13745\">\n",
      " RE: FOR RESEARCH: Trump’s message to black America: Ferguson and Oakland are the new Iraq\n",
      "</a>\n",
      "<br/>\n",
      "<a href=\"https://wikileaks.org/dnc-emails/emailid/13643\">\n",
      " Re: Hillary Clinton Statement on Puerto Rico- President Clinton to Campaign in PR\n",
      "</a>\n",
      "<br/>\n",
      "<a href=\"https://wikileaks.org/dnc-emails/emailid/8417\">\n",
      " WaPo: Former Mafia-linked figure describes association with Trump\n",
      "</a>\n",
      "<br/>\n",
      "<a href=\"https://wikileaks.org/dnc-emails/emailid/13557\">\n",
      " PELOSI -- Statement on Bipartisan Delegation Visit to USCENTCOM and USSOCOM\n",
      "</a>\n",
      "<br/>\n",
      "<a href=\"https://wikileaks.org/dnc-emails/emailid/12441\">\n",
      " RE: Obama comments on Muslim fearmongering during OBL raid\n",
      "</a>\n",
      "<br/>\n",
      "\n"
     ]
    }
   ],
   "source": [
    "#Beautiful soup will helps us format out files\n",
    "from bs4 import BeautifulSoup\n",
    "soup = BeautifulSoup(html_format, 'html.parser')\n",
    "print(soup.prettify())"
   ]
  },
  {
   "cell_type": "code",
   "execution_count": 4,
   "metadata": {},
   "outputs": [],
   "source": [
    "#This function handles the logic for making HTTPS requests for the crawl\n",
    "#It returns file as 'soup'\n",
    "import requests\n",
    "\n",
    "\n",
    "headers={'User-Agent': 'Mozilla/5.0'}\n",
    "\n",
    "def makeRequest(url: str)-> str:\n",
    "\n",
    "    response = requests.get(url=url, headers=headers)\n",
    "\n",
    "    if response.status_code != 200:\n",
    "        raise ValueError(f\"Request not made for: {url}\")\n",
    "    \n",
    "    soup = BeautifulSoup(response.content, 'html.parser')\n",
    "\n",
    "    return soup"
   ]
  },
  {
   "cell_type": "code",
   "execution_count": null,
   "metadata": {},
   "outputs": [],
   "source": [
    "def find_next_link(line: str)-> str:\n",
    "\n",
    "    if not line.startswith(\"<a href=\"):\n",
    "        return None\n",
    "\n",
    "    soup = BeautifulSoup(line, 'html.parser') #use BS library to parse lines\n",
    "    \n",
    "    a_tag = soup.find('a') #find starting point\n",
    "\n",
    "    if a_tag and a_tag.has_attr('href'): #verify we have a link\n",
    "        return a_tag['href']\n",
    "    \n",
    "    return None\n",
    "\n",
    "\n",
    "\n"
   ]
  },
  {
   "cell_type": "code",
   "execution_count": null,
   "metadata": {},
   "outputs": [],
   "source": [
    "#main driver function\n",
    "#iterate through each line in the soup,\n",
    "for line in soup :\n",
    "\n",
    "    url = find_next_link #get the link\n",
    "\n",
    "    current_soup = makeRequest(url) #make the https request\n",
    "\n",
    "    #parse the document and add it to the new repo\n",
    "\n",
    "        \n",
    "\n",
    "\n"
   ]
  },
  {
   "cell_type": "code",
   "execution_count": null,
   "metadata": {},
   "outputs": [
    {
     "name": "stdout",
     "output_type": "stream",
     "text": [
      "Email content downloaded and saved as email_content.html\n"
     ]
    }
   ],
   "source": [
    "#I need to get only the content of the email, I can use three deliminters to do so\n",
    "#One of two different Strings which appear accross the top of the  emails in the CLinton Archive - this may cahnge\n",
    "\n",
    "\n",
    "# SECOND_BEGIN_DELIMITER = \"\"\"\n",
    "# <a data-toggle=\"tab\" href=\"#attachments\">\n",
    "#           Attachments\n",
    "#          </a>\n",
    "# \"\"\"\n",
    "\n",
    "FIRST_BEGIN_DELIMITER = \"h2\"\n",
    "END_DELIMITER = \"###\"\n",
    "\n",
    "\n",
    "beginning_text = soup1.find(FIRST_BEGIN_DELIMITER)\n",
    "\n",
    "if not beginning_text:\n",
    "    raise ValueError(f\"Beginning text not found at: {url3}\")\n",
    "\n",
    "else:\n",
    "    email_content = beginning_text.find_next_sibling()\n",
    "        \n",
    "    content_lines = []\n",
    "\n",
    "    while email_content:\n",
    "\n",
    "        email_line = str(email_content)\n",
    "                    \n",
    "        # if END_DELIMITER in email_line:\n",
    "        #     break\n",
    "                    \n",
    "        content_lines.append(email_line)\n",
    "\n",
    "        email_content = email_content.find_next_sibling()\n",
    "\n",
    "        complete_email_content = ''.join(content_lines)\n",
    "\n",
    "    with open('email_content.html', 'w', encoding='utf-8') as file:\n",
    "        file.write(complete_email_content)\n",
    "\n",
    "    print(\"Email content downloaded and saved as email_content.html\")\n"
   ]
  },
  {
   "cell_type": "code",
   "execution_count": 203,
   "metadata": {},
   "outputs": [
    {
     "name": "stdout",
     "output_type": "stream",
     "text": [
      "<Response [200]>\n"
     ]
    }
   ],
   "source": [
    "import requests\n",
    "\n",
    "url1 = \"https://wikileaks.org/dnc-emails/emailid/14220\"\n",
    "url2 = \"https://wikileaks.org/clinton-emails/emailid/300\"\n",
    "\n",
    "url3=\"https://wikileaks.org/clinton-emails/emailid/32748\"\n",
    "headers={'User-Agent': 'Mozilla/5.0'}\n",
    "\n",
    "response = requests.get(url=url3, headers=headers)\n",
    "print(response)\n",
    "\n",
    "soup1 = BeautifulSoup(response.content)"
   ]
  },
  {
   "cell_type": "code",
   "execution_count": 204,
   "metadata": {},
   "outputs": [],
   "source": [
    "# html_content = str(soup1)\n",
    "\n",
    "# with open('soup1_content.txt', 'w', encoding='utf-8') as file:\n",
    "#     file.write(html_content)"
   ]
  },
  {
   "cell_type": "code",
   "execution_count": 206,
   "metadata": {},
   "outputs": [],
   "source": [
    "# print(soup1.prettify())\n",
    "# Remove script and style elements\n",
    "# for script in soup1([\"script\", \"style\"]):\n",
    "# script.decompose()  # Removes the tag from the soup\n",
    "# print(soup1.prettify())  # Check the entire HTML structure\n"
   ]
  }
 ],
 "metadata": {
  "kernelspec": {
   "display_name": "base",
   "language": "python",
   "name": "python3"
  },
  "language_info": {
   "codemirror_mode": {
    "name": "ipython",
    "version": 3
   },
   "file_extension": ".py",
   "mimetype": "text/x-python",
   "name": "python",
   "nbconvert_exporter": "python",
   "pygments_lexer": "ipython3",
   "version": "3.12.4"
  }
 },
 "nbformat": 4,
 "nbformat_minor": 2
}
